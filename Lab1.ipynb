{
 "cells": [
  {
   "cell_type": "markdown",
   "metadata": {},
   "source": [
    "# <center>Laboratorium 1<br>Metod Numerycznych</center>"
   ]
  },
  {
   "cell_type": "markdown",
   "metadata": {},
   "source": [
    "Zadanie 1"
   ]
  },
  {
   "cell_type": "code",
   "execution_count": 1,
   "metadata": {},
   "outputs": [],
   "source": [
    "import math\n",
    "\n",
    "k = 1240*math.sqrt(7) #float\n",
    "m = 4467 #int\n",
    "l = 2j #complex\n",
    "d = k+m #float\n",
    "c = d+l #complex"
   ]
  },
  {
   "cell_type": "markdown",
   "metadata": {},
   "source": [
    "Zadanie 2"
   ]
  },
  {
   "cell_type": "code",
   "execution_count": 2,
   "metadata": {},
   "outputs": [
    {
     "name": "stdout",
     "output_type": "stream",
     "text": [
      "7747.731625720093\n",
      "7747.732\n",
      "7747.73162572009277937468\n"
     ]
    }
   ],
   "source": [
    "print(d) # dokładność domyślna\n",
    "print('%.3f' %d) # dokładność 3 miejsca\n",
    "print('%.20f' %d) # dokładność 20 miejsc"
   ]
  },
  {
   "cell_type": "markdown",
   "metadata": {},
   "source": [
    "Zadanie 3,4"
   ]
  },
  {
   "cell_type": "code",
   "execution_count": 3,
   "metadata": {},
   "outputs": [
    {
     "name": "stdout",
     "output_type": "stream",
     "text": [
      "5340.707511102648\n"
     ]
    }
   ],
   "source": [
    "r=17.0\n",
    "h=33.0\n",
    "\"\"\"Oblicznaie pola\"\"\"\n",
    "S= 2*math.pi*pow(r,2)+2*math.pi*r*h\n",
    "print(S)"
   ]
  },
  {
   "cell_type": "markdown",
   "metadata": {},
   "source": [
    "Zadanie 5"
   ]
  },
  {
   "cell_type": "code",
   "execution_count": 4,
   "metadata": {},
   "outputs": [
    {
     "name": "stdout",
     "output_type": "stream",
     "text": [
      "-4986655.3565203305\n"
     ]
    }
   ],
   "source": [
    "x1=math.sqrt(3)\n",
    "t=math.sqrt(2)\n",
    "B=(x1+r)*pow(x1,(t*r))/(r*math.sin(2*x1)+3.3456)\n",
    "print(B)"
   ]
  },
  {
   "cell_type": "markdown",
   "metadata": {},
   "source": [
    "Zadanie 6"
   ]
  },
  {
   "cell_type": "code",
   "execution_count": 5,
   "metadata": {},
   "outputs": [
    {
     "name": "stdout",
     "output_type": "stream",
     "text": [
      "[[ 1.41421356  1.         -1.41421356]\n",
      " [ 0.          1.          1.        ]\n",
      " [-1.41421356  1.41421356  1.        ]]\n",
      "[[ 0.10355339  0.75       -0.60355339]\n",
      " [ 0.35355339  0.14644661  0.35355339]\n",
      " [-0.35355339  0.85355339 -0.35355339]]\n",
      "[[ 1.41421356  0.         -1.41421356]\n",
      " [ 1.          1.          1.41421356]\n",
      " [-1.41421356  1.          1.        ]]\n",
      "-4.0\n"
     ]
    }
   ],
   "source": [
    "import numpy\n",
    "a=math.sqrt(2)\n",
    "M=numpy.array([[a,1,-a],[0,1,1],[-a,a,1]])\n",
    "M_inverse = numpy.linalg.inv(M)\n",
    "M_transpose = numpy.transpose(M)\n",
    "M_det = numpy.linalg.det(M)\n",
    "print(M)\n",
    "print(M_inverse)\n",
    "print(M_transpose)\n",
    "print(M_det)"
   ]
  },
  {
   "cell_type": "markdown",
   "metadata": {},
   "source": [
    "Zadanie 7"
   ]
  },
  {
   "cell_type": "code",
   "execution_count": 6,
   "metadata": {},
   "outputs": [
    {
     "name": "stdout",
     "output_type": "stream",
     "text": [
      "[1,1]:  1.4142135623730951\n",
      "[3,3]:  1.0\n",
      "[3,2]:  1.4142135623730951\n",
      "w1: [-1.41421356  1.          1.        ]\n",
      "w2: [0. 1. 1.]\n"
     ]
    }
   ],
   "source": [
    "print(\"[1,1]: \",M[0,0])\n",
    "print(\"[3,3]: \",M[2,2])\n",
    "print(\"[3,2]: \",M[2,1])\n",
    "w1 = M[:,2]\n",
    "w2 = M[1,:]\n",
    "print(\"w1: {0}\".format(w1))\n",
    "print(\"w2: {0}\".format(w2))"
   ]
  },
  {
   "cell_type": "markdown",
   "metadata": {},
   "source": [
    "Zadanie 8"
   ]
  },
  {
   "cell_type": "code",
   "execution_count": 23,
   "metadata": {},
   "outputs": [
    {
     "name": "stdout",
     "output_type": "stream",
     "text": [
      "4.76052283512276463995\n",
      "3.43598693523125353622\n",
      "1.83265781501937063958\n",
      "-2.05534867695011325139\n",
      "-0.97381890842327567537\n",
      "roots:  [ 4.7605228351  3.4359869352  1.832657815  -2.055348677  -0.9738189084]\n",
      "[-45.3251553275 -23.6120124382  -6.7172693339  -8.4489163677\n",
      "  -1.8966465328]\n"
     ]
    }
   ],
   "source": [
    "#import numpy as np\n",
    "#np.set_printoptions(precision=10)\n",
    "coefficients = [1,-7,3,45,-28,-60]\n",
    "def w(x): \n",
    "    return x**5-7*x**4+3*x**3+43*x**2-28*x-60\n",
    "roots=numpy.roots(coefficients)\n",
    "print('%.20f' %roots[0]) # dokładność 20 miejsc\n",
    "print('%.20f' %roots[1])\n",
    "print('%.20f' %roots[2])\n",
    "print('%.20f' %roots[3])\n",
    "print('%.20f' %roots[4])\n",
    "print(\"roots: \",numpy.roots(coefficients)) #generowane pierwiastków ze wspolczynnikow\n",
    "print(w(roots)); #brak 0 wynika z dokładności zapisu liczby w komputerze (roots[0] to tak naprawdę nie jest dokładnie 5)\n"
   ]
  },
  {
   "cell_type": "markdown",
   "metadata": {},
   "source": [
    "Zadanie 9"
   ]
  },
  {
   "cell_type": "code",
   "execution_count": 8,
   "metadata": {
    "scrolled": true
   },
   "outputs": [
    {
     "name": "stdout",
     "output_type": "stream",
     "text": [
      "[ 1.   2.7  4.4  6.1  7.8  9.5 11.2 12.9 14.6 16.3 18.  19.7 21.4 23.1\n",
      " 24.8 26.5 28.2 29.9 31.6 33.3 35.  36.7 38.4 40.1 41.8 43.5 45.2 46.9\n",
      " 48.6 50.3 52.  53.7 55.4 57.1 58.8 60.5 62.2 63.9 65.6 67.3 69.  70.7\n",
      " 72.4 74.1 75.8 77.5 79.2 80.9 82.6 84.3 86.  87.7 89.4 91.1 92.8 94.5\n",
      " 96.2 97.9 99.6]\n",
      "[  1.           8.07142857  15.14285714  22.21428571  29.28571429\n",
      "  36.35714286  43.42857143  50.5         57.57142857  64.64285714\n",
      "  71.71428571  78.78571429  85.85714286  92.92857143 100.        ]\n"
     ]
    }
   ],
   "source": [
    "a_n = numpy.arange(1,100,1.7) #start =1, stop = 100, step = 1.7\n",
    "print(a_n)\n",
    "b_n = numpy.linspace(1,100,num=15) #15 wartości z losowym step od 1 do 100\n",
    "print(b_n)\n",
    "\n",
    "#w arange nie wypisuje wartości równej stop w przeciwieństwie do linspace"
   ]
  },
  {
   "cell_type": "markdown",
   "metadata": {},
   "source": [
    "Zadanie 10"
   ]
  },
  {
   "cell_type": "code",
   "execution_count": 9,
   "metadata": {},
   "outputs": [
    {
     "data": {
      "text/plain": [
       "<Figure size 640x480 with 1 Axes>"
      ]
     },
     "metadata": {},
     "output_type": "display_data"
    },
    {
     "data": {
      "text/plain": [
       "<Figure size 640x480 with 1 Axes>"
      ]
     },
     "metadata": {},
     "output_type": "display_data"
    },
    {
     "data": {
      "text/plain": [
       "<Figure size 640x480 with 1 Axes>"
      ]
     },
     "metadata": {},
     "output_type": "display_data"
    }
   ],
   "source": [
    "f = lambda x: x**3-3*x\n",
    "\n",
    "import matplotlib.pyplot as plt\n",
    "x1 = numpy.linspace(-1,1)\n",
    "x2 = numpy.linspace(-5,5)\n",
    "x3 = numpy.linspace(0,5)\n",
    "\n",
    "y1 = f(x1)   \n",
    "y2 = f(x2) \n",
    "y3 = f(x3) \n",
    "\n",
    "plt.title('Wykres f(x)')\n",
    "#<-1,1>\n",
    "plt.plot(x1,y1)\n",
    "plt.xlabel('x')\n",
    "plt.ylabel('y')\n",
    "plt.show()\n",
    "\n",
    "#<-5,5>\n",
    "plt.plot(x2,y2)\n",
    "plt.xlabel('x')\n",
    "plt.ylabel('y')\n",
    "plt.show()\n",
    "\n",
    "#<0,5>\n",
    "plt.plot(x3,y3)\n",
    "plt.xlabel('x')\n",
    "plt.ylabel('y')\n",
    "plt.show()"
   ]
  },
  {
   "cell_type": "code",
   "execution_count": 10,
   "metadata": {},
   "outputs": [
    {
     "name": "stdout",
     "output_type": "stream",
     "text": [
      "Ciepło w J:  347.2222222222223\n",
      "Ciepło w kcal:  0.08293260299565833\n"
     ]
    },
    {
     "data": {
      "image/png": "[encoded data removed]",
      "text/plain": [
       "<Figure size 432x288 with 1 Axes>"
      ]
     },
     "metadata": {
      "needs_background": "light"
     },
     "output_type": "display_data"
    },
    {
     "data": {
      "image/png": "[encoded data removed]",
      "text/plain": [
       "<Figure size 432x288 with 1 Axes>"
      ]
     },
     "metadata": {
      "needs_background": "light"
     },
     "output_type": "display_data"
    }
   ],
   "source": [
    "Q = lambda m,v: m*v**2/2\n",
    "\n",
    "m = 2500 #g\n",
    "v = 60 #km/h\n",
    "\n",
    "q = Q(m/1000,v/3.6)\n",
    "print('Ciepło w J: ',q) #J\n",
    "print('Ciepło w kcal: ',q/4186.8) #kcal 1kcal = 4168,6J\n",
    "\n",
    "x = numpy.linspace(200,0,1000)\n",
    "y =[Q(3,i/3.6) for i in x] #Wykres dla masy 3kg i predkości w [m/s]\n",
    "plt.figure\n",
    "plt.subplot(211)\n",
    "plt.plot(x, y)\n",
    "plt.title('Wykres liniowy')\n",
    "plt.xlabel('v[km/h]')\n",
    "plt.ylabel('Q[J]')\n",
    "plt.legend('Wykres liniowy')\n",
    "plt.show()\n",
    "plt.subplot(212)\n",
    "plt.semilogy(x,y)\n",
    "plt.title('Wykres logarytmiczny')\n",
    "plt.xlabel('v[km/h]')\n",
    "plt.ylabel('Q[J]')\n",
    "plt.legend('Wykres logarytmiczny')\n",
    "plt.show()"
   ]
  }
 ],
 "metadata": {
  "kernelspec": {
   "display_name": "Python 3",
   "language": "python",
   "name": "python3"
  },
  "language_info": {
   "codemirror_mode": {
    "name": "ipython",
    "version": 3
   },
   "file_extension": ".py",
   "mimetype": "text/x-python",
   "name": "python",
   "nbconvert_exporter": "python",
   "pygments_lexer": "ipython3",
   "version": "3.7.0"
  }
 },
 "nbformat": 4,
 "nbformat_minor": 2
}
