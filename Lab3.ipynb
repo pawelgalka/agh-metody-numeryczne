{
 "cells": [
  {
   "cell_type": "markdown",
   "metadata": {},
   "source": [
    "# Laboratorium 3"
   ]
  },
  {
   "cell_type": "markdown",
   "metadata": {},
   "source": [
    "Zadanie 1"
   ]
  },
  {
   "cell_type": "code",
   "execution_count": 11,
   "metadata": {},
   "outputs": [
    {
     "data": {
      "image/png": "[encoded data removed]",
      "text/plain": [
       "<Figure size 432x288 with 1 Axes>"
      ]
     },
     "metadata": {
      "needs_background": "light"
     },
     "output_type": "display_data"
    }
   ],
   "source": [
    "import math\n",
    "import matplotlib.pyplot as plt\n",
    "import numpy\n",
    "\n",
    "def f(x):\n",
    "    return math.exp(-2*x)+math.pow(x,2)-1\n",
    "\n",
    "def df(x):\n",
    "    return 2*(-math.exp(-2*x)+x)\n",
    "\n",
    "def d2f(x):\n",
    "    return 4*math.exp(-2*x)+2\n",
    "\n",
    "x = numpy.linspace(-2,5,5000)\n",
    "y = [f(i) for i in x]\n",
    "dy = [df(i) for i in x]\n",
    "d2y = [d2f(i) for i in x]\n",
    "\n",
    "plt.figure()\n",
    "plt.plot(x,y,label='$f(x)$')\n",
    "plt.plot(x,dy,label='$f\\'(x)$')\n",
    "plt.plot(x,d2y,label='$f\\'\\'(x)$')\n",
    "plt.grid()\n",
    "plt.ylim(-2,10)\n",
    "plt.title('f(x) i jej pochodne')\n",
    "plt.axhline(0,color='black')\n",
    "plt.axvline(0,color='black')\n",
    "plt.xlabel('x')\n",
    "plt.ylabel('y')\n",
    "plt.legend()\n",
    "plt.show()\n",
    "\n",
    "\n"
   ]
  },
  {
   "cell_type": "markdown",
   "metadata": {},
   "source": [
    "Miejsca zerowa znajdują się w okolicach 0 i 1.\n",
    "Przedziały dla:\n",
    "1. metody bijekcji : [-0.2, 0.3], [0.7, 1.3]\n",
    "2. metody siecznych : [-0.2, 0.3], [0.7, 1.3]\n",
    "3. metody stycznych : [-0.2, 0.3], [0.7, 1.3]"
   ]
  },
  {
   "cell_type": "markdown",
   "metadata": {},
   "source": [
    "Zadanie 2"
   ]
  },
  {
   "cell_type": "code",
   "execution_count": 2,
   "metadata": {},
   "outputs": [],
   "source": [
    "#1\n",
    "def bijekcja(f,a,b,epsilon,max_it):\n",
    "    if (f(a) * f(b) >= 0): \n",
    "        print(\"Błędne dane\") \n",
    "        return\n",
    "    iter = 0\n",
    "    c = (a+b)/2\n",
    "    while abs(b-a)>epsilon and iter<max_it: #assuming b>a\n",
    "        iter+=1\n",
    "        c = (a+b)/2\n",
    "        if (f(c)*f(a) < 0):\n",
    "            b = c\n",
    "        else:\n",
    "            a = c\n",
    "    return c,iter"
   ]
  },
  {
   "cell_type": "markdown",
   "metadata": {},
   "source": [
    "#2 \n",
    "\n",
    "Funkcja przyjmuje różne znaki na końcach przedziału: f(a)f(b) < 0\n",
    "\n",
    "Funkcja jest ciągła na przedziale [a,b]."
   ]
  },
  {
   "cell_type": "code",
   "execution_count": 3,
   "metadata": {},
   "outputs": [
    {
     "name": "stdout",
     "output_type": "stream",
     "text": [
      "(1.1641521080463235e-11, 33)\n",
      "(0.9165625831345097, 33)\n"
     ]
    }
   ],
   "source": [
    "#3\n",
    "print(bijekcja(f,-0.2,0.3,math.pow(10,-10),100))\n",
    "print(bijekcja(f,0.7,1.3,math.pow(10,-10),100))"
   ]
  },
  {
   "cell_type": "code",
   "execution_count": 4,
   "metadata": {},
   "outputs": [
    {
     "name": "stdout",
     "output_type": "stream",
     "text": [
      "Pierwiastek 0\n",
      "0.00011563301086425781\n",
      "0.0002448558807373047\n",
      "Pierwiastek 0,9\n",
      "0.00020933151245117188\n",
      "0.00015401840209960938\n"
     ]
    }
   ],
   "source": [
    "#4\n",
    "import time\n",
    "print(\"Pierwiastek 0\")\n",
    "cur = time.time()\n",
    "own_function = bijekcja(f,-0.2,0.3,math.pow(10,-10),100)\n",
    "print(time.time()-cur)\n",
    "import scipy.optimize as sp\n",
    "cur = time.time()\n",
    "builtin_function = sp.bisect(f,-0.2,0.3)\n",
    "print(time.time()-cur)\n",
    "print(\"Pierwiastek 0,9\")\n",
    "cur = time.time()\n",
    "own_function = bijekcja(f,0.7,1.3,math.pow(10,-10),100)\n",
    "print(time.time()-cur)\n",
    "\n",
    "cur = time.time()\n",
    "builtin_function = sp.bisect(f,0.7,1.3)\n",
    "print(time.time()-cur)"
   ]
  },
  {
   "cell_type": "markdown",
   "metadata": {},
   "source": [
    "Zadanie 3"
   ]
  },
  {
   "cell_type": "code",
   "execution_count": 5,
   "metadata": {},
   "outputs": [],
   "source": [
    "#1\n",
    "def newton(f,df,x0,epsilon,max_it):\n",
    "    x = x0 - f(x0)/df(x0)\n",
    "    y = x0\n",
    "    iter =0\n",
    "    while abs(x-y)>epsilon and iter<max_it:\n",
    "        iter+=1\n",
    "        y = x\n",
    "        x = y - f(y)/df(y)\n",
    "    return x,iter"
   ]
  },
  {
   "cell_type": "markdown",
   "metadata": {},
   "source": [
    "#2 \n",
    "\n",
    "Funkcja ma różne znaki na krańcach przedziału, tj. f (a) · f (b) < 0.\n",
    "\n",
    "Pierwsza i druga pochodna funkcji mają stały znak w tym przedziale.\n",
    "\n",
    "Pierwsza i druga pochodna funkcji są ciągłe na [a,b].\n",
    "\n",
    "Funkcja jest ciągła na [a,b]."
   ]
  },
  {
   "cell_type": "code",
   "execution_count": 6,
   "metadata": {},
   "outputs": [
    {
     "name": "stdout",
     "output_type": "stream",
     "text": [
      "(1.513707656052328e-17, 5)\n",
      "(0.9165625831056982, 5)\n"
     ]
    }
   ],
   "source": [
    "#3\n",
    "print(newton(f,df,-0.2,math.pow(10,-10),100))\n",
    "print(newton(f,df,1.3,math.pow(10,-10),100))"
   ]
  },
  {
   "cell_type": "code",
   "execution_count": 7,
   "metadata": {},
   "outputs": [
    {
     "name": "stdout",
     "output_type": "stream",
     "text": [
      "Pierwiastek 0\n",
      "0.00011086463928222656\n",
      "8.463859558105469e-05\n",
      "Pierwiastek 0,9\n",
      "9.179115295410156e-05\n",
      "0.00010013580322265625\n"
     ]
    }
   ],
   "source": [
    "#4\n",
    "print(\"Pierwiastek 0\")\n",
    "cur = time.time()\n",
    "newton(f,df,-0.2,math.pow(10,-10),100)\n",
    "print(time.time()-cur)\n",
    "cur = time.time()\n",
    "sp.newton(f,-0.2,df)\n",
    "print(time.time()-cur)\n",
    "print(\"Pierwiastek 0,9\")\n",
    "cur = time.time()\n",
    "newton(f,df,1.3,math.pow(10,-10),100)\n",
    "print(time.time()-cur)\n",
    "cur = time.time()\n",
    "sp.newton(f,1.3,df)\n",
    "print(time.time()-cur)"
   ]
  },
  {
   "cell_type": "markdown",
   "metadata": {},
   "source": [
    "Zadanie 4"
   ]
  },
  {
   "cell_type": "code",
   "execution_count": 8,
   "metadata": {},
   "outputs": [],
   "source": [
    "#1\n",
    "def sieczne(f,x0,x1,epsilon,max_it):\n",
    "    x0, x1 = x1, x0 - f(x0)*(x1-x0)/(f(x1)-f(x0))\n",
    "    iter =0\n",
    "    while abs(x1-x0)>epsilon and iter<max_it:\n",
    "        iter+=1\n",
    "        x0, x1 = x1, x0 - f(x0)*(x1-x0)/(f(x1)-f(x0))\n",
    "    return x1,iter"
   ]
  },
  {
   "cell_type": "markdown",
   "metadata": {},
   "source": [
    "#2\n",
    "\n",
    "Funkcja ma różne znaki na krańcach przedziału, tj. f (a) · f (b) < 0.\n",
    "\n",
    "Pierwsza i druga pochodna funkcji mają stały znak w tym przedziale.\n",
    "\n",
    "Pierwsza i druga pochodna funkcji są ciągłe na [a,b].\n",
    "\n",
    "Funkcja jest ciągła na [a,b]."
   ]
  },
  {
   "cell_type": "code",
   "execution_count": 9,
   "metadata": {},
   "outputs": [
    {
     "name": "stdout",
     "output_type": "stream",
     "text": [
      "(9.708142393502055e-18, 7)\n",
      "(0.9165625831056982, 6)\n"
     ]
    }
   ],
   "source": [
    "#3\n",
    "print(sieczne(f,-0.2,0.3,math.pow(10,-10),100))\n",
    "print(sieczne(f,0.7,1.3,math.pow(10,-10),100))"
   ]
  },
  {
   "cell_type": "code",
   "execution_count": 10,
   "metadata": {},
   "outputs": [
    {
     "name": "stdout",
     "output_type": "stream",
     "text": [
      "Pierwiastek 0\n",
      "0.00024509429931640625\n",
      "0.00021123886108398438\n",
      "Pierwiastek 0,9\n",
      "0.00019788742065429688\n",
      "0.00020003318786621094\n"
     ]
    }
   ],
   "source": [
    "#4\n",
    "print(\"Pierwiastek 0\")\n",
    "cur = time.time()\n",
    "sieczne(f,-0.2,0.3,math.pow(10,-10),100)\n",
    "print(time.time()-cur)\n",
    "cur = time.time()\n",
    "sp.newton(f,-0.2,df)\n",
    "print(time.time()-cur)\n",
    "print(\"Pierwiastek 0,9\")\n",
    "cur = time.time()\n",
    "sieczne(f,0.7,1.3,math.pow(10,-10),100)\n",
    "print(time.time()-cur)\n",
    "cur = time.time()\n",
    "sp.newton(f,1.3,df)\n",
    "print(time.time()-cur)"
   ]
  },
  {
   "cell_type": "markdown",
   "metadata": {},
   "source": [
    "#5\n",
    "Pierwiastek      0   0,9\n",
    "\n",
    "Metoda bisekcji: 33, 33 iteracje \n",
    "\n",
    "Metoda Newtona: 5, 4 iteracje\n",
    "\n",
    "Metoda siecznych: 7, 6 iteracji\n",
    "\n",
    "Widać, że metoda bisekcji jest najwolniejsza potem m. siecznych, a najszybsza jest m. Newtona."
   ]
  }
 ],
 "metadata": {
  "kernelspec": {
   "display_name": "Python 3",
   "language": "python",
   "name": "python3"
  },
  "language_info": {
   "codemirror_mode": {
    "name": "ipython",
    "version": 3
   },
   "file_extension": ".py",
   "mimetype": "text/x-python",
   "name": "python",
   "nbconvert_exporter": "python",
   "pygments_lexer": "ipython3",
   "version": "3.7.0"
  }
 },
 "nbformat": 4,
 "nbformat_minor": 2
}
