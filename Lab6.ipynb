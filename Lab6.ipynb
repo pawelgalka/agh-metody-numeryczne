{
 "cells": [
  {
   "cell_type": "markdown",
   "metadata": {},
   "source": [
    "# <center>Laboratorium 6<br>Metody Numeryczne<br>Całkowanie Numeryczne</center>"
   ]
  },
  {
   "cell_type": "markdown",
   "metadata": {},
   "source": [
    "Zadanie 1"
   ]
  },
  {
   "cell_type": "markdown",
   "metadata": {},
   "source": [
    "$ f(x) = e^{-2x} => F(x) = -\\frac{1}{2} e^{-2x}$\n",
    "\n",
    "1)\n",
    "$\\int_{0}^{1}f(x)dx = F(1) - F(0) = -\\frac{1}{2} e^{-2} + \\frac{1}{2} e^{0} =  \\frac{1}{2}(1-e^{-2}) \\approx 0.43233...$ "
   ]
  },
  {
   "cell_type": "code",
   "execution_count": 1,
   "metadata": {},
   "outputs": [],
   "source": [
    "import math\n",
    "exact = 1/2*(1-math.exp(-2))"
   ]
  },
  {
   "cell_type": "code",
   "execution_count": 2,
   "metadata": {},
   "outputs": [
    {
     "name": "stdout",
     "output_type": "stream",
     "text": [
      "Metoda prostokątów  0.43190017013408843\n",
      "Błąd  0.0004321882476052141\n"
     ]
    }
   ],
   "source": [
    "#2\n",
    "def f(x):\n",
    "    return math.exp(-2*x)\n",
    "\n",
    "n = 1000 #ilosc punktów na przedziale [0;1]\n",
    "a = 0\n",
    "b = 1\n",
    "dx = (b-a)/n\n",
    "integral =0;\n",
    "for i in range (1,n+1):\n",
    "    integral += f(a+i*dx)\n",
    "integral *= dx #S = suma f(x_i)dx = dx*(suma f(x_i))\n",
    "print('Metoda prostokątów ',integral)\n",
    "print('Błąd ',abs(integral - exact ))"
   ]
  },
  {
   "cell_type": "code",
   "execution_count": 3,
   "metadata": {},
   "outputs": [
    {
     "name": "stdout",
     "output_type": "stream",
     "text": [
      "Metoda prostych trapezów  0.5676676416183064\n",
      "Błąd  0.13533528323661276\n"
     ]
    }
   ],
   "source": [
    "#3 \n",
    "a = 0\n",
    "b = 1\n",
    "dx = (b-a)/2\n",
    "integral = dx*(f(a)+f(b))\n",
    "print('Metoda prostych trapezów ',integral)\n",
    "print('Błąd ',abs(integral - exact ))"
   ]
  },
  {
   "cell_type": "code",
   "execution_count": 4,
   "metadata": {},
   "outputs": [
    {
     "name": "stdout",
     "output_type": "stream",
     "text": [
      "Metoda prosta Simpsona  0.4344755079870637\n",
      "Błąd  0.0021431496053700427\n"
     ]
    }
   ],
   "source": [
    "#4\n",
    "#https://pl.wikipedia.org/wiki/Metoda_Simpsona\n",
    "a = 0\n",
    "b = 1\n",
    "dx = (b-a)/6\n",
    "integral = dx*(f(a)+4*f((a+b)/2)+f(b))\n",
    "print('Metoda prosta Simpsona ',integral)\n",
    "print('Błąd ',abs(integral - exact ))"
   ]
  },
  {
   "cell_type": "code",
   "execution_count": 5,
   "metadata": {},
   "outputs": [
    {
     "name": "stdout",
     "output_type": "stream",
     "text": [
      "Metoda złożonych trapezów  0.43233250249247046\n",
      "Błąd  1.4411077681186768e-07\n"
     ]
    }
   ],
   "source": [
    "#5\n",
    "n = 1000 #ilosc punktów na przedziale [0;1]\n",
    "a = 0\n",
    "b = 1\n",
    "dx = (b-a)/n\n",
    "integral =0;\n",
    "for i in range (0,n):\n",
    "    integral += (f(a+(i)*dx)+f(a+(i+1)*dx))/2\n",
    "integral *= dx #S = suma 1/2(f(x_i)+f(x_i+1))dx = dx*(suma 1/2(f(x_i)+f(x_i+1)))\n",
    "print('Metoda złożonych trapezów ',integral)\n",
    "print('Błąd ',abs(integral - exact ))"
   ]
  },
  {
   "cell_type": "code",
   "execution_count": 6,
   "metadata": {},
   "outputs": [
    {
     "name": "stdout",
     "output_type": "stream",
     "text": [
      "Metoda złożona Simpsona  0.4323323583816969\n",
      "Błąd  3.2751579226442118e-15\n"
     ]
    }
   ],
   "source": [
    "#6\n",
    "n = 1000 #ilosc punktów na przedziale [0;1]\n",
    "a = 0\n",
    "b = 1\n",
    "dx = (b-a)/n\n",
    "integral =0;\n",
    "for i in range (0,n):\n",
    "    integral += (f(a+(i)*dx)+4*f((a+(i)*dx+a+(i+1)*dx)/2)+f(a+(i+1)*dx))/6\n",
    "integral *= dx #S = suma 1/6(f(x_i)++4f((x_i+x_i+1)/2)+f(x_i+1))dx \n",
    "print('Metoda złożona Simpsona ',integral)\n",
    "print('Błąd ',abs(integral - exact ))"
   ]
  },
  {
   "cell_type": "code",
   "execution_count": 7,
   "metadata": {},
   "outputs": [
    {
     "name": "stdout",
     "output_type": "stream",
     "text": [
      "Metoda Romberga  0.43233235838169437\n",
      "Błąd  7.216449660063518e-16\n"
     ]
    }
   ],
   "source": [
    "#7\n",
    "import scipy.integrate\n",
    "integral_romberg = scipy.integrate.romberg(f,0,1,tol=math.pow(10,-8))\n",
    "print('Metoda Romberga ',integral_romberg)\n",
    "print('Błąd ',abs(integral_romberg - exact ))"
   ]
  },
  {
   "cell_type": "code",
   "execution_count": 8,
   "metadata": {},
   "outputs": [
    {
     "name": "stdout",
     "output_type": "stream",
     "text": [
      "Metoda quad  0.4323323583816936\n",
      "Błąd  5.551115123125783e-17\n"
     ]
    }
   ],
   "source": [
    "#8\n",
    "integral_quad = scipy.integrate.quad(f,0,1)\n",
    "print('Metoda quad ',integral_quad[0])\n",
    "print('Błąd ',abs(integral_quad[0] - exact ))"
   ]
  },
  {
   "cell_type": "markdown",
   "metadata": {},
   "source": [
    "Najbardziej zbliżone wyniki daje złożona metoda Simpsona, metoda Romberga i metoda quad"
   ]
  },
  {
   "cell_type": "markdown",
   "metadata": {},
   "source": [
    "Zadanie 2"
   ]
  },
  {
   "cell_type": "code",
   "execution_count": 9,
   "metadata": {},
   "outputs": [
    {
     "name": "stdout",
     "output_type": "stream",
     "text": [
      "Obliczone metodą trapezów:  1.6448907135693673  błąd:  3.708661789514345e-05\n",
      "Obliczone metodą Simpsona:  1.6448536269391643  błąd:  1.2307932450994485e-11\n",
      "Wartość referencyjna  1.6448536269514722\n"
     ]
    }
   ],
   "source": [
    "import scipy.misc\n",
    "import scipy.stats\n",
    "\n",
    "\n",
    "f = lambda t:1/math.sqrt(2*math.pi)*math.exp(-math.pow(t,2)/2)\n",
    "eps = math.pow(10,-5)\n",
    "p = 0.5\n",
    "val = 0.45\n",
    "\n",
    "def trap(b):\n",
    "    a = 0;\n",
    "    n = 100;\n",
    "    dx = (b-a)/n\n",
    "    integral =0;\n",
    "    for i in range (0,n):\n",
    "        integral += (f(a+(i)*dx)+f(a+(i+1)*dx))/2\n",
    "    integral *= dx\n",
    "    return integral\n",
    "\n",
    "def simp(b):\n",
    "    n = 100 \n",
    "    a = 0\n",
    "    dx = (b-a)/n\n",
    "    integral =0;\n",
    "    for i in range (0,n):\n",
    "        integral += (f(a+(i)*dx)+4*f((a+(i)*dx+a+(i+1)*dx)/2)+f(a+(i+1)*dx))/6\n",
    "    integral *= dx\n",
    "    return integral\n",
    "\n",
    "g = lambda x : trap(x) - 0.45\n",
    "h = lambda x : simp(x) - 0.45\n",
    "\n",
    "def newton(f,df,x0,epsilon,max_it):\n",
    "    x = x0 - f(x0)/df(x0)\n",
    "    y = x0\n",
    "    iter =0\n",
    "    while abs(x-y)>epsilon and iter<max_it:\n",
    "        iter+=1\n",
    "        y = x\n",
    "        x = y - f(y)/df(y)\n",
    "    return x\n",
    "ref = scipy.stats.norm.ppf(0.45+scipy.stats.norm.cdf(0))\n",
    "trapezy = newton(g,f,p,eps,100)\n",
    "simpson = newton(h,f,p,eps,100)\n",
    "print('Obliczone metodą trapezów: ',trapezy,' błąd: ',abs(trapezy-ref))\n",
    "print('Obliczone metodą Simpsona: ',simpson,' błąd: ',abs(simpson-ref))\n",
    "print('Wartość referencyjna ', ref)\n",
    "#Widać że dokładniejsza jest metoda Simpsona (o rząd 10^6)"
   ]
  },
  {
   "cell_type": "markdown",
   "metadata": {},
   "source": [
    "Zadanie 3"
   ]
  },
  {
   "cell_type": "code",
   "execution_count": 10,
   "metadata": {},
   "outputs": [
    {
     "name": "stdout",
     "output_type": "stream",
     "text": [
      "Droga hamowania  6.331502525049489  m\n",
      "Predkość średnia  5.2192392676779775  m/s\n"
     ]
    }
   ],
   "source": [
    "t = [0.0, 0.5, 1.0, 2.0, 3.0, 4.0]\n",
    "a = [-4.5, -4.5, -2.3, -1.0, -0.5, 0.0]\n",
    "\n",
    "import numpy\n",
    "#a s = int(int(a(t)dt)dt)\n",
    "\n",
    "#b v_sr = int_a^b(a(t) dt)\n",
    "\n",
    "\n",
    "#wiemy że prędkość wyraża się wzorem v(t) = v(t0) + int_(t0)^(t) (a(t)dt) - z tego faktu obliczam prędkości dla każdego t\n",
    "v = scipy.interpolate.InterpolatedUnivariateSpline(t,a,k=3)\n",
    "\n",
    "v_temp = [scipy.integrate.quad(v,0,i)[0] for i in t] #dla funkcji pierwotnej C=0\n",
    "C = -v_temp[len(v_temp)-1] #tyle trzeba dodać żeby v(4) = 0 => C=v(0)\n",
    "v_points = [i+C for i in v_temp] #punkty prędkości spełniające warunek v(4) = 0\n",
    "v = scipy.interpolate.InterpolatedUnivariateSpline(t,v_points,k=3)\n",
    "\n",
    "s = abs(scipy.integrate.quad(v,0,4)[0])\n",
    "print('Droga hamowania ',s,' m')\n",
    "\n",
    "s1 = abs(scipy.integrate.quad(v,0,0.5)[0])\n",
    "t = 0.5 - 0\n",
    "print('Predkość średnia ',s1/t, ' m/s')\n"
   ]
  },
  {
   "cell_type": "markdown",
   "metadata": {},
   "source": [
    "Zadanie 4"
   ]
  },
  {
   "cell_type": "code",
   "execution_count": 12,
   "metadata": {},
   "outputs": [
    {
     "name": "stdout",
     "output_type": "stream",
     "text": [
      "Złożone trapezy:  11.063484774497711\n",
      "Złożony Simpson:  11.063484774497724\n",
      "Romberg integration of <function vectorize1.<locals>.vfunc at 0x7fea20209488> from [0, 4.8]\n",
      "\n",
      " Steps  StepSize   Results\n",
      "     1  4.800000 -0.000000 \n",
      "     2  2.400000 -0.000000 -0.000000 \n",
      "\n",
      "The final result is -1.4107931126177507e-15 after 3 function evaluations.\n",
      "Romberg:  -1.4107931126177507e-15\n"
     ]
    },
    {
     "data": {
      "image/png": "[encoded data removed]",
      "text/plain": [
       "<Figure size 432x288 with 1 Axes>"
      ]
     },
     "metadata": {
      "needs_background": "light"
     },
     "output_type": "display_data"
    },
    {
     "data": {
      "image/png": "[encoded data removed]",
      "text/plain": [
       "<Figure size 432x288 with 1 Axes>"
      ]
     },
     "metadata": {
      "needs_background": "light"
     },
     "output_type": "display_data"
    }
   ],
   "source": [
    "l0 = 0\n",
    "l1 = 4.8\n",
    "\n",
    "A = 0.1;\n",
    "T = 0.2;\n",
    "\n",
    "f = lambda x: A*math.sin(2*math.pi*x/T)\n",
    "\n",
    "df = lambda x:2*math.pi*A/T*math.cos(2*math.pi*x/T)\n",
    "\n",
    "l = lambda x: math.sqrt(1+math.pow(df(x),2))\n",
    "\n",
    "n = 1000\n",
    "#L = int(sqrt(1+f'(x)^2))\n",
    "\n",
    "#metoda złożonych trapezów\n",
    "def trapezy(n):\n",
    "    dx = (l1-l0)/n\n",
    "    integral =0;\n",
    "    for i in range (0,n):\n",
    "        integral += (l(l0+(i)*dx)+l(l0+(i+1)*dx))/2\n",
    "    integral *= dx \n",
    "    return integral\n",
    "print('Złożone trapezy: ',trapezy(n))\n",
    "\n",
    "#metoda złożona simpsona\n",
    "def simpsona(n):\n",
    "    dx = (l1-l0)/n\n",
    "    integral =0;\n",
    "    for i in range (0,n):\n",
    "        integral += (l(l0+(i)*dx)+4*l((l0+(i)*dx+l0+(i+1)*dx)/2)+l(l0+(i+1)*dx))/6\n",
    "    integral *= dx\n",
    "    return integral\n",
    "print('Złożony Simpson: ',simpsona(n))\n",
    "\n",
    "#metoda romberga\n",
    "integral = scipy.integrate.romberg(l,l0,l1,tol=math.pow(10,-8),show=True)\n",
    "print('Romberg: ',integral)\n",
    "\n",
    "import matplotlib.pyplot as plt\n",
    "\n",
    "przedzial = [i for i in range(1,101)]\n",
    "wykres_trap = [trapezy(i) for i in range(1,101)]\n",
    "wykres_simp = [simpsona(i) for i in range(1,101)]\n",
    "\n",
    "plt.title('Trapezy')\n",
    "plt.plot(przedzial,wykres_trap,\"o\")\n",
    "plt.xlabel('L')\n",
    "plt.ylabel('n')\n",
    "plt.show()\n",
    "\n",
    "plt.title('Simpson')\n",
    "plt.plot(przedzial,wykres_simp,\"o\")\n",
    "plt.xlabel('n')\n",
    "plt.ylabel('L')\n",
    "plt.show()\n",
    "\n",
    "#wraz ze wzrostem n dokładność metod rośnie"
   ]
  },
  {
   "cell_type": "code",
   "execution_count": null,
   "metadata": {},
   "outputs": [],
   "source": []
  }
 ],
 "metadata": {
  "kernelspec": {
   "display_name": "Python 3",
   "language": "python",
   "name": "python3"
  },
  "language_info": {
   "codemirror_mode": {
    "name": "ipython",
    "version": 3
   },
   "file_extension": ".py",
   "mimetype": "text/x-python",
   "name": "python",
   "nbconvert_exporter": "python",
   "pygments_lexer": "ipython3",
   "version": "3.7.0"
  }
 },
 "nbformat": 4,
 "nbformat_minor": 2
}
