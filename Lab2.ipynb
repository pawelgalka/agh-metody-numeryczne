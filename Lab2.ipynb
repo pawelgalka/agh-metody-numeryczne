{
 "cells": [
  {
   "cell_type": "markdown",
   "metadata": {
    "slideshow": {
     "slide_type": "notes"
    }
   },
   "source": [
    "# <center>Laboratorium 2<br>Metody Numeryczne</center>"
   ]
  },
  {
   "cell_type": "markdown",
   "metadata": {},
   "source": [
    "Zadanie 1"
   ]
  },
  {
   "cell_type": "code",
   "execution_count": 5,
   "metadata": {},
   "outputs": [
    {
     "name": "stdout",
     "output_type": "stream",
     "text": [
      "Pi bezwzględny:  0.0012644892673496777  względny:  0.0004024994347707008\n",
      "e bezwzględny:  0.0002818284590451192  względny:  0.00010367889601972718\n",
      "10^pi bezwzględny:  11.544268632989315  względny:  0.008332470227394952\n",
      "9! bezwzględny: 3343.1271580516477  względny:  0.009212762230080598\n"
     ]
    }
   ],
   "source": [
    "import math\n",
    "\n",
    "p = math.pi  \n",
    "p1 = 22/7       \n",
    "b_bezw = math.fabs(p-p1)\n",
    "b_wzgl = b_bezw/math.fabs(p)\n",
    "print(\"Pi bezwzględny: \",b_bezw,\" względny: \",b_wzgl)\n",
    "\n",
    "p = math.e  \n",
    "p1 = 2.718 \n",
    "b_bezw = math.fabs(p-p1)\n",
    "b_wzgl = b_bezw/math.fabs(p)\n",
    "print(\"e bezwzględny: \",b_bezw,\" względny: \",b_wzgl)\n",
    "\n",
    "p = math.pow(10,math.pi) \n",
    "p1 = 1397      \n",
    "b_bezw = math.fabs(p-p1)\n",
    "b_wzgl = b_bezw/math.fabs(p)\n",
    "print(\"10^pi bezwzględny: \",b_bezw,\" względny: \",b_wzgl)\n",
    "\n",
    "p = math.factorial(9)\n",
    "p1 =  math.sqrt(18*math.pi)*math.pow(9/math.e,9)\n",
    "b_bezw = math.fabs(p-p1)\n",
    "b_wzgl = b_bezw/math.fabs(p)\n",
    "print(\"9! bezwzględny:\",b_bezw,\" względny: \", b_wzgl)"
   ]
  },
  {
   "cell_type": "markdown",
   "metadata": {},
   "source": [
    "Zadanie 2"
   ]
  },
  {
   "cell_type": "markdown",
   "metadata": {},
   "source": [
    "1. Wartość G(p) nie zależy analitycznie od p - jest to po prostu pi"
   ]
  },
  {
   "cell_type": "code",
   "execution_count": 6,
   "metadata": {},
   "outputs": [
    {
     "name": "stdout",
     "output_type": "stream",
     "text": [
      "[3.141592653589793, 3.1415926535897967, 3.14159265358982, 3.1415926535901235, 3.1415926535904877, 3.1415926535846666, 3.1415926537343433, 3.1415926534682512, 3.1415926615397134, 3.1415927886962893, 3.141591852361506, 3.1416015625, 3.1415264423076925, 3.141741071428571, 3.1416666666666666, 3.25, 2.8235294117647056, 0.0, 0.0, 0.0]\n"
     ]
    },
    {
     "data": {
      "image/png": "[encoded data removed]",
      "text/plain": [
       "<Figure size 432x288 with 1 Axes>"
      ]
     },
     "metadata": {
      "needs_background": "light"
     },
     "output_type": "display_data"
    }
   ],
   "source": [
    "import matplotlib.pyplot as plt\n",
    "import numpy \n",
    "\n",
    "def G(p):\n",
    "    vector = []\n",
    "    for i in range(1,p+1):\n",
    "        vector.append(1/i*(math.pow(10,i)*(1+i*math.pi*math.pow(10,-i))-math.pow(10,i)))\n",
    "    return vector\n",
    "\n",
    "pi = numpy.round(math.pi,15)\n",
    "lista = G(20)\n",
    "bezwgl = [math.fabs(pi-x) for x in lista]\n",
    "wzgl = [x/math.fabs(pi) for x in bezwgl]\n",
    "print(lista)\n",
    "\n",
    "plt.title('Wykres błędu względnego i bezwględnego')\n",
    "plt.semilogy(range(1,21),bezwgl,\"o\",label=\"Błąd bezwzględny\")\n",
    "plt.semilogy(range(1,21),wzgl,\"x\",label=\"Błąd względny\")\n",
    "plt.legend()\n",
    "plt.xlabel('n')\n",
    "plt.ylabel('wartość błędu')\n",
    "plt.show()"
   ]
  },
  {
   "cell_type": "markdown",
   "metadata": {},
   "source": [
    "3. Wraz ze wzrostem n błąd rośnie (w skali logarytmicznej) co oznacza, że im większe n tym większy błąd wynikający z kolejności obliczeń. Obliczenia wykonywane są numerycznie a nie analitycznie czyli komputer nie upraszcza wyrażenia przed jego obliczeniem i z każda kolejna operacja zawiera błąd wynikający z poprzednich."
   ]
  },
  {
   "cell_type": "markdown",
   "metadata": {},
   "source": [
    "4. W tych obliczeniach zachodzi błąd zaokrągleń wynikający np. z potęgowania liczby 10 do dużej liczby (np. dla n>8) oraz wynikający z potęgowania liczby do bardzo małej liczby i dodania jej do liczby rzędu dziesiątek które skutkuje jej ignorowaniem "
   ]
  },
  {
   "cell_type": "markdown",
   "metadata": {},
   "source": [
    "Zadanie 3"
   ]
  },
  {
   "cell_type": "code",
   "execution_count": 7,
   "metadata": {},
   "outputs": [
    {
     "name": "stdout",
     "output_type": "stream",
     "text": [
      "5\n",
      "Blad bezwgl: 0.0016151617923787498\n",
      "Blad wzgl: 0.0005941848175817597\n",
      "20\n",
      "Blad bezwgl: 4.440892098500626e-16\n",
      "Blad wzgl: 1.6337129034990842e-16\n"
     ]
    }
   ],
   "source": [
    "def e(n):\n",
    "    return sum([1/math.factorial(i) for i in range(0,n+1)])\n",
    "\n",
    "bezwzgl = math.fabs(math.exp(1)-e(5))\n",
    "wzgl = bezwzgl/math.fabs(math.exp(1))\n",
    "print(\"5\")\n",
    "print(\"Blad bezwgl:\",bezwzgl)\n",
    "print(\"Blad wzgl:\", wzgl)\n",
    "\n",
    "bezwzgl = math.fabs(math.exp(1)-e(20))\n",
    "wzgl = bezwzgl/math.fabs(math.exp(1))\n",
    "print(\"20\")\n",
    "print(\"Blad bezwgl:\", bezwzgl)\n",
    "print(\"Blad wzgl:\", wzgl)\n"
   ]
  },
  {
   "cell_type": "markdown",
   "metadata": {},
   "source": [
    "Zadanie 4"
   ]
  },
  {
   "cell_type": "code",
   "execution_count": 8,
   "metadata": {},
   "outputs": [
    {
     "ename": "SyntaxError",
     "evalue": "invalid syntax (<ipython-input-8-88d80cb8133f>, line 10)",
     "output_type": "error",
     "traceback": [
      "\u001b[0;36m  File \u001b[0;32m\"<ipython-input-8-88d80cb8133f>\"\u001b[0;36m, line \u001b[0;32m10\u001b[0m\n\u001b[0;31m    print(power) \"\"\" wypisuje wykładnik dla którego wartość b nie zmienia wartości a+b która będzie równa a, oznacza to że liczba power-1 określa  liczbę cyfr mantysy bo dla liczby power wszystkie bity mantysy to 0 \"\"\"\u001b[0m\n\u001b[0m                                                                                                                                                                                                                         ^\u001b[0m\n\u001b[0;31mSyntaxError\u001b[0m\u001b[0;31m:\u001b[0m invalid syntax\n"
     ]
    }
   ],
   "source": [
    "a = 1.0\n",
    "power = 1\n",
    "while True:\n",
    "    b = 2**-power\n",
    "    if (a+b==a):\n",
    "        break\n",
    "    else:\n",
    "        power+=1\n",
    "\n",
    "print(power) \"\"\" wypisuje wykładnik dla którego wartość b nie zmienia wartości a+b która będzie równa a, oznacza to że liczba power-1 określa  liczbę cyfr mantysy bo dla liczby power wszystkie bity mantysy to 0 \n"
   ]
  },
  {
   "cell_type": "markdown",
   "metadata": {},
   "source": [
    "Zadanie 5"
   ]
  },
  {
   "cell_type": "code",
   "execution_count": null,
   "metadata": {},
   "outputs": [],
   "source": [
    "pi = lambda n : math.sqrt(6*sum(x**-2 for x in range(1,n+1))) #użycie lambdy i \n",
    "print(pi(100000))"
   ]
  }
 ],
 "metadata": {
  "kernelspec": {
   "display_name": "Python 3",
   "language": "python",
   "name": "python3"
  },
  "language_info": {
   "codemirror_mode": {
    "name": "ipython",
    "version": 3
   },
   "file_extension": ".py",
   "mimetype": "text/x-python",
   "name": "python",
   "nbconvert_exporter": "python",
   "pygments_lexer": "ipython3",
   "version": "3.7.0"
  }
 },
 "nbformat": 4,
 "nbformat_minor": 2
}
