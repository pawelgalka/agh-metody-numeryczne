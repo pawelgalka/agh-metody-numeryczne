{
 "cells": [
  {
   "cell_type": "markdown",
   "metadata": {},
   "source": [
    "# Laboratorium 5 - sprawozdanie"
   ]
  },
  {
   "cell_type": "markdown",
   "metadata": {},
   "source": [
    "Zadanie 1"
   ]
  },
  {
   "cell_type": "markdown",
   "metadata": {},
   "source": [
    "Dla i = 1 x = [1,1]<br>\n",
    "Dla i = 2 x = [2,0]"
   ]
  },
  {
   "cell_type": "code",
   "execution_count": 3,
   "metadata": {},
   "outputs": [
    {
     "name": "stdout",
     "output_type": "stream",
     "text": [
      "Współczynnik uwarunkowania macierzy A:  40004.0001000044\n",
      "Jest on duży dlatego mała zmiana wektora b powoduje duże zmiany wyników - macierz jest źle uwarunkowana\n"
     ]
    }
   ],
   "source": [
    "import numpy\n",
    "import numpy.linalg\n",
    "A = numpy.array([[1,1],[1,1.0001]])\n",
    "print(\"Współczynnik uwarunkowania macierzy A: \",numpy.linalg.cond(A,1))\n",
    "print(\"Jest on duży dlatego mała zmiana wektora b powoduje duże zmiany wyników - macierz jest źle uwarunkowana\")"
   ]
  },
  {
   "cell_type": "markdown",
   "metadata": {},
   "source": [
    "Zadanie 2"
   ]
  },
  {
   "cell_type": "code",
   "execution_count": 2,
   "metadata": {},
   "outputs": [
    {
     "name": "stdout",
     "output_type": "stream",
     "text": [
      "Dla normy kolumnowej:  33872789110.107353\n",
      "Dla normy wierszowej:  33872789109.757656\n",
      "Dla normy spektralnej:  15257574847.190962\n",
      "Współczynniki uwarunkowania są duże czy macierz Hilberta jest źle uwarunkowana\n"
     ]
    }
   ],
   "source": [
    "import numpy\n",
    "from scipy.linalg import hilbert\n",
    "import scipy.linalg\n",
    "import math\n",
    "\n",
    "A = hilbert(8)\n",
    "n_kol = scipy.linalg.norm(A, ord = 1)\n",
    "n_kol1 = scipy.linalg.norm(numpy.linalg.inv(A), ord = 1)\n",
    "print(\"Dla normy kolumnowej: \",n_kol*n_kol1)\n",
    "n_wier = scipy.linalg.norm(A, ord = numpy.inf)\n",
    "n_wier1 = scipy.linalg.norm(numpy.linalg.inv(A), ord = numpy.inf)\n",
    "print(\"Dla normy wierszowej: \",n_wier*n_wier1) \n",
    "eigenvals, eigenvect = (numpy.linalg.eig(numpy.matmul(numpy.transpose(A),A)))\n",
    "eigenvals1, eigenvect = (numpy.linalg.eig(numpy.matmul(numpy.transpose(numpy.linalg.inv(A)),numpy.linalg.inv(A))))\n",
    "n_spek = math.sqrt(max(eigenvals))*math.sqrt(max(eigenvals1))\n",
    "print(\"Dla normy spektralnej: \",n_spek)\n",
    "\n",
    "print(\"Współczynniki uwarunkowania są duże czy macierz Hilberta jest źle uwarunkowana\")\n"
   ]
  },
  {
   "cell_type": "markdown",
   "metadata": {},
   "source": [
    "Zadanie 3"
   ]
  },
  {
   "cell_type": "code",
   "execution_count": 3,
   "metadata": {},
   "outputs": [
    {
     "name": "stdout",
     "output_type": "stream",
     "text": [
      "solve:  [ 1.00000000e+00  3.32764927e-11 -8.00000000e+00  6.35818437e-08\n",
      "  1.06666656e+01  1.19699204e-05 -5.68898363e+00  5.53922234e-04\n",
      "  1.62293934e+00  8.41840595e-03 -3.11464449e-01  4.71900888e-02\n",
      " -4.25883553e-02  9.95878711e-02 -1.01598838e-01  7.36115670e-02\n",
      " -3.99387587e-02  1.50687889e-02 -3.49070550e-03  3.73507626e-04]\n",
      "lstsq:  [ 1.00000000e+00  1.32997475e-11 -8.00000000e+00  2.27399505e-08\n",
      "  1.06666663e+01  3.63061300e-06 -5.68891467e+00  1.32078403e-04\n",
      "  1.62489928e+00  1.38430832e-03 -2.91765386e-01  3.94194537e-03\n",
      "  3.18156585e-02 -1.48548542e-04  1.32017843e-03 -6.46255172e-03\n",
      "  5.44668767e-03 -2.60035272e-03  7.30549910e-04 -9.27605996e-05]\n",
      "qr:  [ 1.00000000e+00 -3.68180914e-11 -8.00000000e+00 -6.68040308e-08\n",
      "  1.06666678e+01 -1.18047669e-05 -5.68879853e+00 -5.10732658e-04\n",
      "  1.62758794e+00 -7.26294062e-03 -2.70154238e-01 -3.82348552e-02\n",
      "  9.60780538e-02 -7.61559375e-02  7.02589345e-02 -5.34097741e-02\n",
      "  2.86281041e-02 -1.04196293e-02  2.33851891e-03 -2.44422212e-04]\n",
      "Wydajność :\n",
      "Solve :  2.3374009132385254e-05\n",
      "QR :  7.750680446624756e-05\n",
      "Lstsq :  7.880232334136962e-05\n",
      "Najwydajniesza jest metoda solve, najmniej wydajna jest metoda lstsq.\n",
      "Porównanie norm :\n",
      "Solve :  3.325692481969284e-15\n",
      "QR :  3.5288897716431816e-15\n",
      "Lstsq :  1.2378022087384646e-14\n",
      "Najmniejszą norme daje metoda solve => daje najdokładniejsze rozwiązanie\n"
     ]
    }
   ],
   "source": [
    "import time\n",
    "\n",
    "n = 20\n",
    "\n",
    "t = numpy.linspace(0,1,n)\n",
    "b = [math.cos(4*i) for i in t]\n",
    "A = numpy.vander(t,increasing=True)\n",
    "\n",
    "\n",
    "start_solve = time.time()\n",
    "for i in range (0,10000):\n",
    "    numpy.linalg.solve(A,b)\n",
    "end_solve = time.time()\n",
    "time_solve = (end_solve-start_solve)/10000\n",
    "x_solve = numpy.linalg.solve(A,b)#obliczone metodą solve\n",
    "r_solve = b - numpy.matmul(A,x_solve)\n",
    "norm_solve = numpy.linalg.norm(r_solve)\n",
    "\n",
    "\n",
    "Q,R = numpy.linalg.qr(A)\n",
    "\n",
    "\"\"\"\n",
    "Ax = b\n",
    "QRx = b\n",
    "Rx = (Q^-1)b ale Q jest m.ortogonalna => Q^-1 = Q^T\n",
    "Rx = (Q^T)b\n",
    "\"\"\"\n",
    "\n",
    "start_qr = time.time()\n",
    "for i in range (0,10000):\n",
    "    scipy.linalg.solve_triangular(R, numpy.matmul(numpy.transpose(Q),b))\n",
    "end_qr = time.time()\n",
    "time_qr = (end_qr-start_qr)/10000\n",
    "x_qr = scipy.linalg.solve_triangular(R, numpy.matmul(numpy.transpose(Q),b)) #metoda qr\n",
    "r_qr = b - numpy.matmul(A,x_qr)\n",
    "norm_qr = numpy.linalg.norm(r_qr)\n",
    "\n",
    "\n",
    "\n",
    "start_lstsq = time.time()\n",
    "for i in range (0,10000):\n",
    "    numpy.linalg.lstsq(A,b,rcond=None)\n",
    "end_lstsq = time.time()\n",
    "time_lstsq = (end_lstsq-start_lstsq)/10000\n",
    "x_lstsq = numpy.linalg.lstsq(A,b,rcond=None)\n",
    "x_lstsq = x_lstsq[0] #metoda lstsq\n",
    "r_lstsq = b - numpy.matmul(A,x_lstsq)\n",
    "norm_lstsq = numpy.linalg.norm(r_lstsq)\n",
    "\n",
    "print(\"solve: \",x_solve) \n",
    "print(\"lstsq: \",x_lstsq)\n",
    "print(\"qr: \",x_qr)\n",
    "\n",
    "print(\"Wydajność :\")\n",
    "print(\"Solve : \",time_solve)\n",
    "print(\"QR : \",time_qr)\n",
    "print(\"Lstsq : \",time_lstsq)\n",
    "print(\"Najwydajniesza jest metoda solve, najmniej wydajna jest metoda lstsq.\")\n",
    "\n",
    "\n",
    "#korzystam z normy euklidesowej dla wektorów residuum\n",
    "print(\"Porównanie norm :\")\n",
    "print(\"Solve : \",norm_solve)\n",
    "print(\"QR : \",norm_qr)\n",
    "print(\"Lstsq : \",norm_lstsq)\n",
    "print(\"Najmniejszą norme daje metoda solve => daje najdokładniejsze rozwiązanie\")"
   ]
  },
  {
   "cell_type": "markdown",
   "metadata": {},
   "source": [
    "Zadanie 4"
   ]
  },
  {
   "cell_type": "code",
   "execution_count": 14,
   "metadata": {},
   "outputs": [
    {
     "name": "stdout",
     "output_type": "stream",
     "text": [
      "Współczynniki uwarunkowania:  [1.0600219655745877, 1.8651827923582753, 9.402260643647645, 3850.828950152734, 2262.557182234505, 5485.289249728959]\n",
      "Metoda solve:  [7.199925901601408e-15, 1.1538567414516022e-14, 1.5861845525636443e-14, 1.5076655006895407e-12, 3.043359288292125e-12, 1.7525400550480462e-11]\n",
      "Metoda bigc:  [3.337414472543916e-05, 2.0017212714412418e-05, 0.00011538346478159317, 8.674813704648735e-05, 0.00012769444362323372, 7.994432615278592e-05]\n",
      "Metoda gmres:  [3.337075485954394e-05, 0.00012753186041917374, 9.791349512894903e-05, 0.03697348543302465, 0.2104859581483172, 0.424673938201494]\n",
      "[0.0017843246459960938, 0.0012938976287841797, 0.0012841224670410156, 0.0014348030090332031, 0.0016171932220458984, 0.0017161369323730469] [0.0007107257843017578, 0.0008709430694580078, 0.0016989707946777344, 0.06617975234985352, 0.0707557201385498, 0.06963062286376953] [0.00032448768615722656, 0.00041747093200683594, 0.0008847713470458984, 3.8858799934387207, 3.971334457397461, 4.254789113998413]\n"
     ]
    },
    {
     "data": {
      "image/png": "[encoded data removed]",
      "text/plain": [
       "<Figure size 432x288 with 1 Axes>"
      ]
     },
     "metadata": {
      "needs_background": "light"
     },
     "output_type": "display_data"
    },
    {
     "data": {
      "image/png": "[encoded data removed]",
      "text/plain": [
       "<Figure size 432x288 with 1 Axes>"
      ]
     },
     "metadata": {
      "needs_background": "light"
     },
     "output_type": "display_data"
    },
    {
     "data": {
      "image/png": "[encoded data removed]",
      "text/plain": [
       "<Figure size 432x288 with 1 Axes>"
      ]
     },
     "metadata": {
      "needs_background": "light"
     },
     "output_type": "display_data"
    },
    {
     "name": "stdout",
     "output_type": "stream",
     "text": [
      "Dla wzrostu tau wzrasta współczynnik uwarunkowania macierzy A\n",
      "Dla większych współczynników uwarunkowania macierzy A norma residuum zwiększa się logarytmicznie - ma duży wpływ na dokładność rozwiązania\n",
      "Dla większych współczynników uwarunkowania macierzy A czas wykonywania wzrasta logarytmicznie (jedynie metoda solve zachowuje czas w tym samym rzędzie wielkości)\n"
     ]
    }
   ],
   "source": [
    "import math\n",
    "import matplotlib.pyplot as plt\n",
    "import scipy.sparse.linalg\n",
    "import time\n",
    "n = 500\n",
    "a = numpy.random.uniform(-1,1,n*n).reshape((n,n))\n",
    "A = numpy.tril(a) + numpy.tril(a, -1).T\n",
    "for i in range (0,n):\n",
    "    A[i,i] = 1\n",
    "b = numpy.random.uniform(-1,1,n)\n",
    "tau = [0.01, 0.05, 0.1, 0.2, 0.5, 0.75]\n",
    "conds=[]\n",
    "solve_norm=[]\n",
    "bigc_norm=[]\n",
    "gmres_norm=[]\n",
    "solve_times=[]\n",
    "bigc_times=[]\n",
    "gmres_times=[]\n",
    "for i in tau:\n",
    "    tmp = A.copy()\n",
    "    for j in range (0,n):\n",
    "        for k in range (0,j):\n",
    "            if abs(tmp[j,k])>i:\n",
    "                tmp[j,k] = 0\n",
    "                tmp[k,j] = 0\n",
    "    conds.append(numpy.linalg.cond(tmp))\n",
    "    m_rzadka = scipy.sparse.csr_matrix(tmp)\n",
    "    start = time.time()\n",
    "    x_solve = numpy.linalg.solve(tmp,b)#obliczone metodą solve\n",
    "    solve_times.append(time.time()-start)\n",
    "    start = time.time()\n",
    "    x_bigc = scipy.sparse.linalg.bicg(tmp,b)[0]#metoda bigc\n",
    "    bigc_times.append(time.time()-start)\n",
    "    start = time.time()\n",
    "    x_gmres = scipy.sparse.linalg.gmres(tmp,b)[0]#metoda gmres\n",
    "    gmres_times.append(time.time()-start)\n",
    "    solve_norm.append(numpy.linalg.norm(b-numpy.matmul(tmp,x_solve)))\n",
    "    bigc_norm.append(numpy.linalg.norm(b-numpy.matmul(tmp,x_bigc)))\n",
    "    gmres_norm.append(numpy.linalg.norm(b-numpy.matmul(tmp,x_gmres)))\n",
    "print(\"Współczynniki uwarunkowania: \",conds)\n",
    "print(\"Metoda solve: \",solve_norm)\n",
    "print(\"Metoda bigc: \",bigc_norm)\n",
    "print(\"Metoda gmres: \",gmres_norm)\n",
    "print(solve_times,bigc_times,gmres_times)\n",
    "plt.figure()\n",
    "plt.plot(tau,conds,label='cond(tau)')\n",
    "plt.title('wykres współczynnyika uwarunkowania macierzy od tau')\n",
    "plt.xlabel('tau')\n",
    "plt.ylabel('cond(A)')\n",
    "plt.legend()\n",
    "plt.show()\n",
    "\n",
    "plt.figure()\n",
    "plt.semilogy(conds,solve_norm,\"o\",label='solve')\n",
    "plt.semilogy(conds,bigc_norm,\"x\",label='bigc')\n",
    "plt.semilogy(conds,gmres_norm,\"+\",label='gmres')\n",
    "plt.title('wykres logarytmiczny normy rozwiazania od wspolczynnika uwarunkowania macierzy')\n",
    "plt.xlabel('cond(A)')\n",
    "plt.ylabel('norm')\n",
    "plt.legend()\n",
    "plt.show()\n",
    "\n",
    "plt.figure()\n",
    "plt.semilogy(conds,solve_times,\"o\",label='solve')\n",
    "plt.semilogy(conds,bigc_times,\"x\",label='bigc')\n",
    "plt.semilogy(conds,gmres_times,\"+\",label='gmres')\n",
    "plt.title('wykres logarytmiczny czasu rozwiazania od wspolczynnika uwarunkowania macierzy')\n",
    "plt.xlabel('cond(A)')\n",
    "plt.ylabel('time')\n",
    "plt.legend()\n",
    "plt.show()\n",
    "\n",
    "print(\"Dla wzrostu tau wzrasta współczynnik uwarunkowania macierzy A\")\n",
    "#ciężko zaobserwować zależność cond(A) od tau ze wzgledu na randomizacje tworzenia macierzy A ale ogólnie najmniejsze cond są dla małych tau, wieksze cond są dla większych tau \n",
    "print(\"Dla większych współczynników uwarunkowania macierzy A norma residuum zwiększa się logarytmicznie - ma duży wpływ na dokładność rozwiązania\")\n",
    "print(\"Dla większych współczynników uwarunkowania macierzy A czas wykonywania wzrasta logarytmicznie (jedynie metoda solve zachowuje czas w tym samym rzędzie wielkości)\")\n",
    "print(\"Najmniej efektywny jest gmres bo daje najwieksza norme residuum i najdłużej trwa, najlepiej spisuje sie metoda solve\")"
   ]
  },
  {
   "cell_type": "markdown",
   "metadata": {},
   "source": [
    "Zadanie 5"
   ]
  },
  {
   "cell_type": "code",
   "execution_count": 29,
   "metadata": {},
   "outputs": [
    {
     "name": "stdout",
     "output_type": "stream",
     "text": [
      "Rozwiązanie metodą solve:  [ 0.25 -0.75  0.75]\n",
      "Rozwiązanie metodą Gaussa-Seidela:  [-9.71400324e+60 -2.37837221e+62  5.04816453e+62]\n",
      "Dla tego układu metoda nie działa ponieważ macierz A nie spełnia kryteriów silnej ani słabej dominacji kolumnowej i rzędowej ani nie jest dodatnio określona bo M_2=-3<0\n",
      "Metoda działa dla np:\n",
      "[[ 4 -1  1]\n",
      " [ 1  6  1]\n",
      " [-1  2  5]]\n",
      "Macierz A jest silnie dominująca w rzędach\n",
      "Rozwiązanie metodą solve:  [1.27777778 1.26190476 0.15079365]\n",
      "Rozwiązanie metodą Gaussa-Seidela:  [1.27777778 1.26190476 0.15079365]  błąd:  3.58365189069606e-12\n",
      "Widać, że dla dobrych danych wejściowych implementacja jest poprawna\n"
     ]
    }
   ],
   "source": [
    "A = numpy.array([[1,2,3],[2,1,3],[3,2,1]])\n",
    "b = numpy.array([1,2,0])\n",
    "x = numpy.linalg.solve(A,b)\n",
    "print(\"Rozwiązanie metodą solve: \",x)\n",
    "\n",
    "#https://pl.wikipedia.org/wiki/Metoda_Gaussa-Seidla\n",
    "#x_(k+1)= (L1)^-1*(-U*x_(k)+b) gdzie L1 to L+U czyli macierz trójkątna dolna z wartościami diadonalnymi\n",
    "#warunek stopu: max_iter lub |x_k+1-x_k|<epsilon (różnica norm jest mniejsza od epsilon)\n",
    "def gauss_seidel(A,b,epsilon,max_iter):\n",
    "    L1 = numpy.tril(A)\n",
    "    U = A - L1\n",
    "    x_k = numpy.ones(len(b)) - numpy.ones(len(b)) #generowanie zerowego wektora\n",
    "    iter=0 #licznik iteracji\n",
    "    while(iter<max_iter):\n",
    "        iter+=1\n",
    "        x_k1 = numpy.dot(numpy.linalg.inv(L1), b - numpy.dot(U, x_k)) #implementacja linii 8\n",
    "        norm = abs(numpy.linalg.norm(b-numpy.matmul(A,x_k1))-numpy.linalg.norm(b-numpy.matmul(A,x_k)))\n",
    "        x_k = x_k1\n",
    "        if(epsilon>norm or iter>100):\n",
    "            break\n",
    "    return x_k1\n",
    "    \n",
    "x_k1 = gauss_seidel(A,b,math.pow(10,-10),100)\n",
    "print(\"Rozwiązanie metodą Gaussa-Seidela: \",x_k1)\n",
    "print(\"Dla tego układu metoda nie działa ponieważ macierz A nie spełnia kryteriów silnej ani słabej dominacji kolumnowej i rzędowej ani nie jest dodatnio określona bo M_2=-3<0\")\n",
    "print(\"Metoda działa dla np:\")\n",
    "A = numpy.array([[4,-1,1],[1,6,1],[-1,2,5]])\n",
    "print(A)\n",
    "print(\"Powyższa macierz A jest silnie dominująca w rzędach\")\n",
    "b = numpy.array([4,9,2])\n",
    "x = numpy.linalg.solve(A,b)\n",
    "print(\"Rozwiązanie metodą solve: \",x)\n",
    "x_k1 = gauss_seidel(A,b,math.pow(10,-10),100)\n",
    "print(\"Rozwiązanie metodą Gaussa-Seidela: \",x_k1,\" błąd: \",numpy.linalg.norm(b-numpy.matmul(A,x_k1)))\n",
    "print(\"Widać, że dla dobrych danych wejściowych implementacja jest poprawna\")"
   ]
  },
  {
   "cell_type": "code",
   "execution_count": null,
   "metadata": {},
   "outputs": [],
   "source": []
  }
 ],
 "metadata": {
  "kernelspec": {
   "display_name": "Python 3",
   "language": "python",
   "name": "python3"
  },
  "language_info": {
   "codemirror_mode": {
    "name": "ipython",
    "version": 3
   },
   "file_extension": ".py",
   "mimetype": "text/x-python",
   "name": "python",
   "nbconvert_exporter": "python",
   "pygments_lexer": "ipython3",
   "version": "3.7.0"
  }
 },
 "nbformat": 4,
 "nbformat_minor": 2
}
